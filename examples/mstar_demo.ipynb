{
 "cells": [
  {
   "cell_type": "markdown",
   "metadata": {},
   "source": [
    "# Mstar Demo"
   ]
  },
  {
   "cell_type": "markdown",
   "metadata": {},
   "source": [
    "In this notebook, you find how to use Mstar and output predictions. Also, you will get familiarised with the ANN model functionalities."
   ]
  },
  {
   "cell_type": "code",
   "execution_count": 1,
   "metadata": {
    "ExecuteTime": {
     "end_time": "2022-10-30T01:06:27.933963Z",
     "start_time": "2022-10-30T01:06:27.929686Z"
    }
   },
   "outputs": [],
   "source": [
    "# import mstar as Mstar"
   ]
  },
  {
   "cell_type": "code",
   "execution_count": null,
   "metadata": {
    "ExecuteTime": {
     "end_time": "2022-10-31T16:02:42.759009Z",
     "start_time": "2022-10-31T16:02:42.753371Z"
    }
   },
   "outputs": [],
   "source": []
  },
  {
   "cell_type": "code",
   "execution_count": 21,
   "metadata": {
    "ExecuteTime": {
     "end_time": "2022-10-31T16:21:21.108482Z",
     "start_time": "2022-10-31T16:21:21.073410Z"
    }
   },
   "outputs": [],
   "source": [
    "import sys\n",
    "import os\n",
    "import pickle\n",
    "from pathlib import Path\n",
    "import numpy as np\n",
    "from sklearn.neural_network import MLPRegressor, MLPClassifier\n",
    "\n",
    "# local folder\n",
    "# from .utils import load_cosmos_sample, create_directories\n",
    "\n",
    "# utils functions\n",
    "def get_project_root():\n",
    "    return str(Path(os.getcwd()).absolute().parent)\n",
    "\n",
    "def load_cosmos_sample(label,kind='smass', path='./data/lib/'):\n",
    "    \"\"\"Loads COSMOS training/test data.\"\"\"\n",
    "    x_train = np.load(path+'x_%s.npy'%label)\n",
    "    y_train = np.load(path+'y_%s.npy'%label)\n",
    "\n",
    "    ix = np.where(kind=='smass', 0, 1)\n",
    "    \n",
    "    return x_train, y_train[:,ix]\n",
    "\n",
    "def write_model(model, fname):\n",
    "    with open(fname, 'wb') as f:\n",
    "        d = pickle.dump(model, f)\n",
    "    pass\n",
    "\n",
    "def load_model(fname):\n",
    "    with open(fname, 'rb') as f:\n",
    "        d = pickle.load(f, encoding='bytes') \n",
    "    return d\n",
    "\n",
    "def create_directories(path):\n",
    "    # Define directories\n",
    "    model_folder = 'model/'\n",
    "    plot_folder = 'plots/'\n",
    "\n",
    "    # Create model directory\n",
    "    _makedirs(path)\n",
    "    _makedirs(path + model_folder)\n",
    "    _makedirs(path + plot_folder)\n",
    "\n",
    "def _makedirs(path):\n",
    "    if not os.path.isdir(path):\n",
    "        os.makedirs(path)\n",
    "    pass\n",
    "\n",
    "# conf function\n",
    "def set_ann_params(kind):\n",
    "    \"\"\"\n",
    "    All hyperparameters for the ann algorithm can be tuned here. For a detailed description of each hyperparameter\n",
    "    please visit: https://scikit-learn.org/stable/modules/generated/sklearn.neural_network.MLPRegressor.html.\n",
    "    The most important hyperparameters are hidden_layer_sizes, activation='relu'.\n",
    "    \"\"\"\n",
    "    params = {'hidden_layer_sizes': (100,),\n",
    "              'activation': 'relu'\n",
    "              }\n",
    "    return params\n",
    "    \n",
    "root = get_project_root()\n",
    "default_model_fname =  {'smass':root+'/data/model/ann.pkl', 'quenching': root+'/data/model/classifier_ann.pkl'}\n",
    "\n",
    "class Mstar:\n",
    "    \"\"\"\n",
    "    Top-level class for training or loading the saved ANN model for stellar mass and quenching label predictions.\n",
    "    The code is based on the the scikit-learn library and api.\n",
    "\n",
    "    Parameters\n",
    "    ----------\n",
    "    kind: str, optional\n",
    "        Specifies the prediction mode you will use. The string has to be \"smass\" or \"quenching\".\n",
    "\n",
    "    model_fname: st, optional\n",
    "        Sets the model filename to be loaded. Default filename is `./models/ann3`.\n",
    "        \n",
    "    outdir: bool, optional\n",
    "        The path to save the estimated values, plots and the model.\n",
    "    \"\"\"\n",
    "\n",
    "    def __init__(self, kind='smass', model_fname=None, rebuild=False, root=root):\n",
    "        # Initialise arguments\n",
    "        self.kind = kind\n",
    "        \n",
    "        # default ANN model file\n",
    "        if model_fname is None:\n",
    "            model_fname = default_model_fname[self.kind]\n",
    "            \n",
    "        self.model_fname = model_fname\n",
    "        \n",
    "        # Define directory paths\n",
    "        self.path = root+'/data/'\n",
    "        self.lib_folder = self.path+'/lib/'\n",
    "        self.plot_folder = self.path+'plots/'\n",
    "        self.model_folder = self.path+'model/'\n",
    "\n",
    "        # Check if model_name exists\n",
    "        if os.path.isfile(self.model_fname) & (not rebuild):\n",
    "            # load model here\n",
    "            self.model = load_model(self.model_fname)\n",
    "            print('Loaded model {model}'.format(model=self.model_fname))\n",
    "        elif rebuild:\n",
    "            print('Rebuilding model. It might take few seconds.')\n",
    "            self.rebuild()\n",
    "            \n",
    "            print('Created default model file succsefully: {dfname}'.format(dfname=default_model_fname[self.kind]))\n",
    "            \n",
    "        else:\n",
    "            print('Model error: {fname} file not found. To run Mstar specify the correct model path/name.'.format(fname=self.model_fname))\n",
    "            print('If there is no {dfname}, set rebuild to True'.format(dfname=default_model_fname[self.kind]))    \n",
    "            #exit()\n",
    "\n",
    "    def predict(self, X):\n",
    "        \"\"\"Predicts the value of the model\n",
    "\n",
    "        The default is to predict the stellar masses. \n",
    "        In the classifying a quenched galaxy returns the quenching probability. \n",
    "        \n",
    "        Parameters\n",
    "        ----------\n",
    "        X : array\n",
    "            An array of input features of galaxies with shape [n, x], where n is the number of galaxies and x is the number of input features.\n",
    "            \n",
    "        Returns\n",
    "        ----------\n",
    "        Y : array\n",
    "            An array of predicted values with size n\n",
    "        \"\"\"\n",
    "        # Use the model to make predictions on new objects\n",
    "        y_pred = self.model.predict(self.x_test)\n",
    "\n",
    "        # Update class variables\n",
    "        #self.plot.y_pred = y_pred\n",
    "        \n",
    "#         if self.kind=='quenching':\n",
    "#             # quenching probability\n",
    "#             y_pred = y_pred[:,0]\n",
    "        \n",
    "        return y_pred\n",
    "    \n",
    "    def rebuild(self):\n",
    "        # set default fname\n",
    "        self.model_fname = default_model_fname[self.kind]\n",
    "        # load training files\n",
    "        self.load_training_sample()\n",
    "        # fit data and save the model\n",
    "        self.fit(self.x_train, self.y_train, save_model=True)\n",
    "    \n",
    "    def fit(self, X, y, ann_params=None, save_model=True):\n",
    "        \"\"\"fit a new ANN model\n",
    "\n",
    "        Fit a new ANN model. \n",
    "        You can set the best params with ann_params. \n",
    "\n",
    "        Parameters\n",
    "        ----------\n",
    "        X : array\n",
    "            An array of input features of training galaxies with shape [n, x], where n is the number of galaxies and x is the number of input features.\n",
    "        \n",
    "        y : array\n",
    "            An array of target features of training galaxies with shape [n, y], where n in the number of galaxies and y is the number of target features.\n",
    "\n",
    "        ann_params: dict, optional\n",
    "            If none sets the default ann_params. Otherwise, take a look at the sklearn api.\n",
    "        \n",
    "        save_model: bool, optional\n",
    "            Whether to save model or not.\n",
    "        \"\"\"\n",
    "        # Create the model directory\n",
    "        create_directories(self.path)\n",
    "        \n",
    "        if ann_params is None:\n",
    "            # Get random forest hyperparameters\n",
    "            self.params = set_ann_params(self.kind)\n",
    "\n",
    "        func_dict = {'smass':MLPRegressor, 'quenching': MLPClassifier}\n",
    "        func = func_dict[self.kind]\n",
    "        \n",
    "        # Train model\n",
    "        print('Training model...')\n",
    "        self.model = func(**self.params)\n",
    "        self.model.fit(X, y)\n",
    "                \n",
    "        # Save model\n",
    "        if save_model:\n",
    "            write_model(self.model, self.model_fname)\n",
    "            print('Saved model')\n",
    "\n",
    "    # External Class functions\n",
    "    def load_training_sample(self):\n",
    "        x_train, y_train = load_cosmos_sample('train', self.kind, self.lib_folder)\n",
    "        # set training variables\n",
    "        self.x_train = x_train\n",
    "        self.y_train = y_train\n",
    "        pass\n",
    "        \n",
    "    def load_test_sample(self):\n",
    "        x_test, y_test = load_cosmos_sample('test', self.kind, self.lib_folder)\n",
    "        self.x_test = x_test\n",
    "        self.y_test = y_test\n",
    "        pass\n",
    "\n",
    "    def load_target_sample(self):\n",
    "        x_test, y_test = load_cosmos_sample('target', self.kind, self.lib_folder)\n",
    "        self.x_target = x_test\n",
    "        self.y_tartet = y_test\n",
    "        pass\n",
    "\n",
    "    def plot_scatter(self, show=False, save=True):\n",
    "        print('Creating scatter plots...')\n",
    "        return self.plot.plot_scatter(show=show, save=save)\n",
    "\n",
    "    def plot_joint(self, show=False, save=True):\n",
    "        print('Creating posterior plots...')\n",
    "        return self.plot.plot_joint(show=show, save=save)\n"
   ]
  },
  {
   "cell_type": "code",
   "execution_count": 22,
   "metadata": {
    "ExecuteTime": {
     "end_time": "2022-10-31T16:21:38.090441Z",
     "start_time": "2022-10-31T16:21:21.344178Z"
    }
   },
   "outputs": [
    {
     "name": "stdout",
     "output_type": "stream",
     "text": [
      "Rebuilding model. It might take few seconds.\n",
      "Training model...\n",
      "Saved model\n",
      "Created default model file succsefully: /Users/jesteves/Documents/GitHub/mstar-alpha/data/model/ann.pkl\n"
     ]
    }
   ],
   "source": [
    "mS = Mstar('smass',rebuild=True)"
   ]
  },
  {
   "cell_type": "code",
   "execution_count": 23,
   "metadata": {
    "ExecuteTime": {
     "end_time": "2022-10-31T16:21:38.102584Z",
     "start_time": "2022-10-31T16:21:38.093431Z"
    }
   },
   "outputs": [],
   "source": [
    "mS.load_training_sample()"
   ]
  },
  {
   "cell_type": "code",
   "execution_count": 24,
   "metadata": {
    "ExecuteTime": {
     "end_time": "2022-10-31T16:21:38.118431Z",
     "start_time": "2022-10-31T16:21:38.107754Z"
    }
   },
   "outputs": [
    {
     "data": {
      "text/plain": [
       "array([10.3462 , 10.3462 , 10.2143 , ...,  9.23365,  9.23365,  7.87907])"
      ]
     },
     "execution_count": 24,
     "metadata": {},
     "output_type": "execute_result"
    }
   ],
   "source": [
    "mS.y_train"
   ]
  },
  {
   "cell_type": "code",
   "execution_count": 25,
   "metadata": {
    "ExecuteTime": {
     "end_time": "2022-10-31T16:21:38.138789Z",
     "start_time": "2022-10-31T16:21:38.124082Z"
    }
   },
   "outputs": [],
   "source": [
    "mS.load_test_sample()\n",
    "ypred = mS.predict(mS.x_test)"
   ]
  },
  {
   "cell_type": "code",
   "execution_count": 26,
   "metadata": {
    "ExecuteTime": {
     "end_time": "2022-10-31T16:21:38.351085Z",
     "start_time": "2022-10-31T16:21:38.143713Z"
    }
   },
   "outputs": [
    {
     "data": {
      "text/plain": [
       "<matplotlib.collections.PathCollection at 0x7fb9600cec70>"
      ]
     },
     "execution_count": 26,
     "metadata": {},
     "output_type": "execute_result"
    },
    {
     "data": {
      "image/png": "[encoded data removed]",
      "text/plain": [
       "<Figure size 640x480 with 1 Axes>"
      ]
     },
     "metadata": {},
     "output_type": "display_data"
    }
   ],
   "source": [
    "import matplotlib.pyplot as plt\n",
    "plt.scatter(ypred, mS.y_test)"
   ]
  },
  {
   "cell_type": "code",
   "execution_count": null,
   "metadata": {},
   "outputs": [],
   "source": []
  },
  {
   "cell_type": "code",
   "execution_count": 28,
   "metadata": {
    "ExecuteTime": {
     "end_time": "2022-10-31T16:27:05.710910Z",
     "start_time": "2022-10-31T16:23:13.343455Z"
    }
   },
   "outputs": [
    {
     "name": "stdout",
     "output_type": "stream",
     "text": [
      "Rebuilding model. It might take few seconds.\n",
      "Training model...\n",
      "Saved model\n",
      "Created default model file succsefully: /Users/jesteves/Documents/GitHub/mstar-alpha/data/model/classifier_ann.pkl\n"
     ]
    }
   ],
   "source": [
    "mS = Mstar('quenching',rebuild=True)"
   ]
  },
  {
   "cell_type": "code",
   "execution_count": 29,
   "metadata": {
    "ExecuteTime": {
     "end_time": "2022-10-31T16:27:05.726949Z",
     "start_time": "2022-10-31T16:27:05.714896Z"
    }
   },
   "outputs": [],
   "source": [
    "mS.load_training_sample()"
   ]
  },
  {
   "cell_type": "code",
   "execution_count": 30,
   "metadata": {
    "ExecuteTime": {
     "end_time": "2022-10-31T16:27:05.758164Z",
     "start_time": "2022-10-31T16:27:05.729925Z"
    }
   },
   "outputs": [
    {
     "ename": "AttributeError",
     "evalue": "'Mstar' object has no attribute 'x_test'",
     "output_type": "error",
     "traceback": [
      "\u001b[0;31m---------------------------------------------------------------------------\u001b[0m",
      "\u001b[0;31mAttributeError\u001b[0m                            Traceback (most recent call last)",
      "Input \u001b[0;32mIn [30]\u001b[0m, in \u001b[0;36m<cell line: 1>\u001b[0;34m()\u001b[0m\n\u001b[0;32m----> 1\u001b[0m Pq \u001b[38;5;241m=\u001b[39m mS\u001b[38;5;241m.\u001b[39mpredict(\u001b[43mmS\u001b[49m\u001b[38;5;241;43m.\u001b[39;49m\u001b[43mx_test\u001b[49m)\n",
      "\u001b[0;31mAttributeError\u001b[0m: 'Mstar' object has no attribute 'x_test'"
     ]
    }
   ],
   "source": [
    "Pq = mS.predict(mS.x_test)"
   ]
  },
  {
   "cell_type": "code",
   "execution_count": null,
   "metadata": {
    "ExecuteTime": {
     "end_time": "2022-10-31T16:27:05.767711Z",
     "start_time": "2022-10-31T16:27:05.767690Z"
    }
   },
   "outputs": [],
   "source": [
    "plt.hist(Pq)"
   ]
  },
  {
   "cell_type": "code",
   "execution_count": null,
   "metadata": {
    "ExecuteTime": {
     "end_time": "2022-10-31T16:27:05.773371Z",
     "start_time": "2022-10-31T16:27:05.773328Z"
    }
   },
   "outputs": [],
   "source": [
    "# ms.plot.color_evolution(Pq, X)"
   ]
  },
  {
   "cell_type": "code",
   "execution_count": null,
   "metadata": {},
   "outputs": [],
   "source": []
  },
  {
   "cell_type": "code",
   "execution_count": null,
   "metadata": {},
   "outputs": [],
   "source": []
  }
 ],
 "metadata": {
  "kernelspec": {
   "display_name": "Python 3 (ipykernel)",
   "language": "python",
   "name": "python3"
  },
  "language_info": {
   "codemirror_mode": {
    "name": "ipython",
    "version": 3
   },
   "file_extension": ".py",
   "mimetype": "text/x-python",
   "name": "python",
   "nbconvert_exporter": "python",
   "pygments_lexer": "ipython3",
   "version": "3.8.8"
  },
  "latex_envs": {
   "LaTeX_envs_menu_present": true,
   "autoclose": true,
   "autocomplete": true,
   "bibliofile": "biblio.bib",
   "cite_by": "apalike",
   "current_citInitial": 1,
   "eqLabelWithNumbers": true,
   "eqNumInitial": 1,
   "hotkeys": {
    "equation": "Ctrl-E",
    "itemize": "Ctrl-I"
   },
   "labels_anchors": false,
   "latex_user_defs": false,
   "report_style_numbering": true,
   "user_envs_cfg": false
  },
  "toc": {
   "base_numbering": 1,
   "nav_menu": {},
   "number_sections": true,
   "sideBar": true,
   "skip_h1_title": true,
   "title_cell": "Table of Contents",
   "title_sidebar": "Contents",
   "toc_cell": false,
   "toc_position": {},
   "toc_section_display": true,
   "toc_window_display": true
  }
 },
 "nbformat": 4,
 "nbformat_minor": 4
}
